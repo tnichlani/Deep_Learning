{
  "nbformat": 4,
  "nbformat_minor": 0,
  "metadata": {
    "accelerator": "GPU",
    "colab": {
      "name": "Neural_Nets_Project_Starter_Code.ipynb",
      "provenance": [],
      "collapsed_sections": [],
      "include_colab_link": true
    },
    "kernelspec": {
      "display_name": "Python 3",
      "language": "python",
      "name": "python3"
    },
    "language_info": {
      "codemirror_mode": {
        "name": "ipython",
        "version": 3
      },
      "file_extension": ".py",
      "mimetype": "text/x-python",
      "name": "python",
      "nbconvert_exporter": "python",
      "pygments_lexer": "ipython3",
      "version": "3.6.5"
    }
  },
  "cells": [
    {
      "cell_type": "markdown",
      "metadata": {
        "id": "view-in-github",
        "colab_type": "text"
      },
      "source": [
        "<a href=\"https://colab.research.google.com/github/tnichlani/Deep_Learning/blob/main/Neural_Nets_Project_Gesture_Recognition_Code.ipynb\" target=\"_parent\"><img src=\"https://colab.research.google.com/assets/colab-badge.svg\" alt=\"Open In Colab\"/></a>"
      ]
    },
    {
      "cell_type": "markdown",
      "metadata": {
        "id": "BttZ5S3Du2Gu"
      },
      "source": [
        "# Gesture Recognition\n",
        "In this group project, you are going to build a 3D Conv model that will be able to predict the 5 gestures correctly. Please import the following libraries to get started."
      ]
    },
    {
      "cell_type": "code",
      "metadata": {
        "colab": {
          "base_uri": "https://localhost:8080/"
        },
        "id": "HE6FpWpLuWWy",
        "outputId": "9b6ce843-21c6-4554-99b0-d47ba8063fea"
      },
      "source": [
        "from google.colab import drive\n",
        "drive.mount('/content/gdrive')"
      ],
      "execution_count": 1,
      "outputs": [
        {
          "output_type": "stream",
          "text": [
            "Mounted at /content/gdrive\n"
          ],
          "name": "stdout"
        }
      ]
    },
    {
      "cell_type": "code",
      "metadata": {
        "id": "1nXJ68WuxAeb"
      },
      "source": [
        "pip install scipy==1.1.0"
      ],
      "execution_count": null,
      "outputs": []
    },
    {
      "cell_type": "code",
      "metadata": {
        "id": "9ZFuCfswu2Gy"
      },
      "source": [
        "import numpy as np\n",
        "import os\n",
        "from scipy.misc import imread, imresize\n",
        "import datetime\n",
        "import os\n",
        "import keras as keras\n",
        "import warnings\n",
        "warnings.filterwarnings(\"ignore\")"
      ],
      "execution_count": 1,
      "outputs": []
    },
    {
      "cell_type": "markdown",
      "metadata": {
        "id": "kYoFvt9ou2Gz"
      },
      "source": [
        "We set the random seed so that the results don't vary drastically."
      ]
    },
    {
      "cell_type": "code",
      "metadata": {
        "id": "bJ7ZIMBVu2Gz"
      },
      "source": [
        "np.random.seed(30)\n",
        "import random as rn\n",
        "rn.seed(30)\n",
        "from keras import backend as K\n",
        "import tensorflow as tf\n",
        "tf.random.set_seed(30)"
      ],
      "execution_count": 2,
      "outputs": []
    },
    {
      "cell_type": "code",
      "metadata": {
        "colab": {
          "base_uri": "https://localhost:8080/"
        },
        "id": "so3rX7sRgsDW",
        "outputId": "2a5cd0bf-1b4b-44ff-9046-3277301619a2"
      },
      "source": [
        "device_name = tf.test.gpu_device_name()\n",
        "if \"GPU\" not in device_name:\n",
        "    print(\"GPU device not found\")\n",
        "else:\n",
        "    print('Found GPU at: {}'.format(device_name))"
      ],
      "execution_count": 3,
      "outputs": [
        {
          "output_type": "stream",
          "text": [
            "Found GPU at: /device:GPU:0\n"
          ],
          "name": "stdout"
        }
      ]
    },
    {
      "cell_type": "markdown",
      "metadata": {
        "id": "MpQpEeGeu2G0"
      },
      "source": [
        "In this block, you read the folder names for training and validation. You also set the `batch_size` here. Note that you set the batch size in such a way that you are able to use the GPU in full capacity. You keep increasing the batch size until the machine throws an error."
      ]
    },
    {
      "cell_type": "code",
      "metadata": {
        "colab": {
          "base_uri": "https://localhost:8080/"
        },
        "id": "7GO_3ZrWg7mW",
        "outputId": "21863a42-6a71-4e4c-aa27-588b3b4d5985"
      },
      "source": [
        "#check GPU configuration\n",
        "!nvidia-smi"
      ],
      "execution_count": 4,
      "outputs": [
        {
          "output_type": "stream",
          "text": [
            "Sat Jun 26 11:31:26 2021       \n",
            "+-----------------------------------------------------------------------------+\n",
            "| NVIDIA-SMI 465.27       Driver Version: 460.32.03    CUDA Version: 11.2     |\n",
            "|-------------------------------+----------------------+----------------------+\n",
            "| GPU  Name        Persistence-M| Bus-Id        Disp.A | Volatile Uncorr. ECC |\n",
            "| Fan  Temp  Perf  Pwr:Usage/Cap|         Memory-Usage | GPU-Util  Compute M. |\n",
            "|                               |                      |               MIG M. |\n",
            "|===============================+======================+======================|\n",
            "|   0  Tesla T4            Off  | 00000000:00:04.0 Off |                    0 |\n",
            "| N/A   41C    P0    27W /  70W |    222MiB / 15109MiB |      0%      Default |\n",
            "|                               |                      |                  N/A |\n",
            "+-------------------------------+----------------------+----------------------+\n",
            "                                                                               \n",
            "+-----------------------------------------------------------------------------+\n",
            "| Processes:                                                                  |\n",
            "|  GPU   GI   CI        PID   Type   Process name                  GPU Memory |\n",
            "|        ID   ID                                                   Usage      |\n",
            "|=============================================================================|\n",
            "+-----------------------------------------------------------------------------+\n"
          ],
          "name": "stdout"
        }
      ]
    },
    {
      "cell_type": "code",
      "metadata": {
        "id": "y_gsfhdQu2G1"
      },
      "source": [
        "train_doc = np.random.permutation(open('/content/gdrive/MyDrive/Colab/gesture recognition/Project_data/train.csv').readlines())\n",
        "val_doc = np.random.permutation(open('/content/gdrive/MyDrive/Colab/gesture recognition/Project_data/val.csv').readlines())\n",
        "batch_size = 10 #experiment with the batch size"
      ],
      "execution_count": 5,
      "outputs": []
    },
    {
      "cell_type": "code",
      "metadata": {
        "id": "YzgweCLpu2G2"
      },
      "source": [
        "x = 30 # number of frames\n",
        "y = 120 # image width\n",
        "z = 120 # image height\n",
        "\n",
        "def generator(source_path, folder_list, batch_size):\n",
        "    print( 'Source path = ', source_path, '; batch size =', batch_size)\n",
        "    img_idx = [x for x in range(0,x)] #create a list of image numbers you want to use for a particular video\n",
        "    while True:\n",
        "        t = np.random.permutation(folder_list)\n",
        "        num_batches = len(folder_list) // batch_size # calculate the number of batches\n",
        "        for batch in range(num_batches): # we iterate over the number of batches\n",
        "            batch_data = np.zeros((batch_size,x,y,z,3)) # x is the number of images you use for each video, (y,z) is the final size of the input images and 3 is the number of channels RGB\n",
        "            batch_labels = np.zeros((batch_size,5)) # batch_labels is the one hot representation of the output\n",
        "            for folder in range(batch_size): # iterate over the batch_size\n",
        "                imgs = os.listdir(source_path+'/'+ t[folder + (batch*batch_size)].split(';')[0]) # read all the images in the folder\n",
        "                for idx,item in enumerate(img_idx): #  Iterate iver the frames/images of a folder to read them in\n",
        "                    image = imread(source_path+'/'+ t[folder + (batch*batch_size)].strip().split(';')[0]+'/'+imgs[item]).astype(np.float32)\n",
        "                    #crop the images and resize them. Note that the images are of 2 different shape \n",
        "                    #and the conv3D will throw error if the inputs in a batch have different shapes\n",
        "                    \n",
        "                    temp = imresize(image,(120,120))\n",
        "                    temp = temp/127.5-1 #Normalize data\n",
        "                    \n",
        "                    batch_data[folder,idx,:,:,0] = (temp[:,:,0]) #normalise and feed in the image\n",
        "                    batch_data[folder,idx,:,:,1] = (temp[:,:,1]) #normalise and feed in the image\n",
        "                    batch_data[folder,idx,:,:,2] = (temp[:,:,2]) #normalise and feed in the image\n",
        "                    \n",
        "                batch_labels[folder, int(t[folder + (batch*batch_size)].strip().split(';')[2])] = 1\n",
        "            yield batch_data, batch_labels #you yield the batch_data and the batch_labels, remember what does yield do\n",
        "\n",
        "        \n",
        "        # write the code for the remaining data points which are left after full batches\n",
        "        if (len(folder_list) != batch_size*num_batches):\n",
        "            print(\"Batch: \",num_batches+1,\"Index:\", batch_size)\n",
        "            batch_size = len(folder_list) - (batch_size*num_batches)\n",
        "            batch_data = np.zeros((batch_size,x,y,z,3)) # x is the number of images you use for each video, (y,z) is the final size of the input images and 3 is the number of channels RGB\n",
        "            batch_labels = np.zeros((batch_size,5)) # batch_labels is the one hot representation of the output\n",
        "            for folder in range(batch_size): # iterate over the batch_size\n",
        "                imgs = os.listdir(source_path+'/'+ t[folder + (batch*batch_size)].split(';')[0]) # read all the images in the folder\n",
        "                for idx,item in enumerate(img_idx): #  Iterate iver the frames/images of a folder to read them in\n",
        "                    image = imread(source_path+'/'+ t[folder + (batch*batch_size)].strip().split(';')[0]+'/'+imgs[item]).astype(np.float32)\n",
        "                    #crop the images and resize them. Note that the images are of 2 different shape \n",
        "                    #and the conv3D will throw error if the inputs in a batch have different shapes\n",
        "                    temp = imresize(image,(120,120))\n",
        "                    temp = temp/127.5-1 #Normalize data\n",
        "                    \n",
        "                    batch_data[folder,idx,:,:,0] = (temp[:,:,0])\n",
        "                    batch_data[folder,idx,:,:,1] = (temp[:,:,1])\n",
        "                    batch_data[folder,idx,:,:,2] = (temp[:,:,2])\n",
        "                   \n",
        "                batch_labels[folder, int(t[folder + (batch*batch_size)].strip().split(';')[2])] = 1\n",
        "            yield batch_data, batch_labels\n"
      ],
      "execution_count": 6,
      "outputs": []
    },
    {
      "cell_type": "markdown",
      "metadata": {
        "id": "cHcRi9-7u2G3"
      },
      "source": [
        "Note here that a video is represented above in the generator as (number of images, height, width, number of channels). Take this into consideration while creating the model architecture."
      ]
    },
    {
      "cell_type": "code",
      "metadata": {
        "colab": {
          "base_uri": "https://localhost:8080/"
        },
        "id": "LYBCDmMBu2G4",
        "outputId": "fa5db929-ace8-48e8-d478-c44983163968"
      },
      "source": [
        "curr_dt_time = datetime.datetime.now()\n",
        "train_path = '/content/gdrive/MyDrive/Colab/gesture recognition/Project_data/train'\n",
        "val_path = '/content/gdrive/MyDrive/Colab/gesture recognition/Project_data/val'\n",
        "num_train_sequences = len(train_doc)\n",
        "print('# training sequences =', num_train_sequences)\n",
        "num_val_sequences = len(val_doc)\n",
        "print('# validation sequences =', num_val_sequences)\n",
        "num_epochs = 6 # choose the number of epochs\n",
        "print ('# epochs =', num_epochs)"
      ],
      "execution_count": 7,
      "outputs": [
        {
          "output_type": "stream",
          "text": [
            "# training sequences = 663\n",
            "# validation sequences = 100\n",
            "# epochs = 6\n"
          ],
          "name": "stdout"
        }
      ]
    },
    {
      "cell_type": "markdown",
      "metadata": {
        "id": "-4bzXijUu2G4"
      },
      "source": [
        "## Model\n",
        "Here you make the model using different functionalities that Keras provides. Remember to use `Conv3D` and `MaxPooling3D` and not `Conv2D` and `Maxpooling2D` for a 3D convolution model. You would want to use `TimeDistributed` while building a Conv2D + RNN model. Also remember that the last layer is the softmax. Design the network in such a way that the model is able to give good accuracy on the least number of parameters so that it can fit in the memory of the webcam."
      ]
    },
    {
      "cell_type": "markdown",
      "metadata": {
        "id": "WMxydoyk4YJB"
      },
      "source": [
        "## **Base Model**"
      ]
    },
    {
      "cell_type": "code",
      "metadata": {
        "id": "WbPcju0xu2G5"
      },
      "source": [
        "from keras.models import Sequential, Model\n",
        "from keras.layers import Dense, GRU, TimeDistributed, Flatten, BatchNormalization, Activation, Dropout, LSTM\n",
        "from keras.layers.convolutional import Conv3D, MaxPooling3D, Conv2D, MaxPooling2D\n",
        "from keras.callbacks import ModelCheckpoint, ReduceLROnPlateau\n",
        "from keras import optimizers\n",
        "\n",
        "#write your model here\n",
        "model = Sequential()\n",
        "\n",
        "model.add(Conv3D(8, kernel_size=(3,3,3), input_shape=(30, 120, 120, 3), padding='same'))\n",
        "model.add(BatchNormalization())\n",
        "model.add(Activation('relu'))\n",
        "\n",
        "model.add(MaxPooling3D(pool_size=(2,2,2)))\n",
        "\n",
        "model.add(Conv3D(16, kernel_size=(3,3,3), padding='same'))\n",
        "model.add(BatchNormalization())\n",
        "model.add(Activation('relu'))\n",
        "\n",
        "model.add(MaxPooling3D(pool_size=(2,2,2)))\n",
        "\n",
        "model.add(Conv3D(32, kernel_size=(1,3,3), padding='same'))\n",
        "model.add(BatchNormalization())\n",
        "model.add(Activation('relu'))\n",
        "\n",
        "model.add(MaxPooling3D(pool_size=(2,2,2)))\n",
        "\n",
        "model.add(Conv3D(64, kernel_size=(1,3,3), padding='same'))\n",
        "model.add(BatchNormalization())\n",
        "model.add(Activation('relu'))\n",
        "\n",
        "model.add(MaxPooling3D(pool_size=(2,2,2)))\n",
        "\n",
        "#Flatten Layers\n",
        "model.add(Flatten())\n",
        "\n",
        "model.add(Dense(1000, activation='relu'))\n",
        "model.add(Dropout(0.5))\n",
        "\n",
        "model.add(Dense(500, activation='relu'))\n",
        "model.add(Dropout(0.5))\n",
        "\n",
        "#softmax layer\n",
        "model.add(Dense(5, activation='softmax'))"
      ],
      "execution_count": 8,
      "outputs": []
    },
    {
      "cell_type": "markdown",
      "metadata": {
        "id": "8R793KJiu2G6"
      },
      "source": [
        "Now that you have written the model, the next step is to `compile` the model. When you print the `summary` of the model, you'll see the total number of parameters you have to train."
      ]
    },
    {
      "cell_type": "code",
      "metadata": {
        "colab": {
          "base_uri": "https://localhost:8080/"
        },
        "id": "UIvETTVCu2G6",
        "scrolled": true,
        "outputId": "c2246ab8-2a19-475f-817c-8d3ff41fdd95"
      },
      "source": [
        "#optimiser = Keras.optimisers.Adam(lr=0.001) #write your optimizer\n",
        "opt = keras.optimizers.Adam(learning_rate=0.01)\n",
        "model.compile(optimizer=opt, loss='categorical_crossentropy', metrics=['categorical_accuracy'])\n",
        "print(model.summary())"
      ],
      "execution_count": 9,
      "outputs": [
        {
          "output_type": "stream",
          "text": [
            "Model: \"sequential\"\n",
            "_________________________________________________________________\n",
            "Layer (type)                 Output Shape              Param #   \n",
            "=================================================================\n",
            "conv3d (Conv3D)              (None, 30, 120, 120, 8)   656       \n",
            "_________________________________________________________________\n",
            "batch_normalization (BatchNo (None, 30, 120, 120, 8)   32        \n",
            "_________________________________________________________________\n",
            "activation (Activation)      (None, 30, 120, 120, 8)   0         \n",
            "_________________________________________________________________\n",
            "max_pooling3d (MaxPooling3D) (None, 15, 60, 60, 8)     0         \n",
            "_________________________________________________________________\n",
            "conv3d_1 (Conv3D)            (None, 15, 60, 60, 16)    3472      \n",
            "_________________________________________________________________\n",
            "batch_normalization_1 (Batch (None, 15, 60, 60, 16)    64        \n",
            "_________________________________________________________________\n",
            "activation_1 (Activation)    (None, 15, 60, 60, 16)    0         \n",
            "_________________________________________________________________\n",
            "max_pooling3d_1 (MaxPooling3 (None, 7, 30, 30, 16)     0         \n",
            "_________________________________________________________________\n",
            "conv3d_2 (Conv3D)            (None, 7, 30, 30, 32)     4640      \n",
            "_________________________________________________________________\n",
            "batch_normalization_2 (Batch (None, 7, 30, 30, 32)     128       \n",
            "_________________________________________________________________\n",
            "activation_2 (Activation)    (None, 7, 30, 30, 32)     0         \n",
            "_________________________________________________________________\n",
            "max_pooling3d_2 (MaxPooling3 (None, 3, 15, 15, 32)     0         \n",
            "_________________________________________________________________\n",
            "conv3d_3 (Conv3D)            (None, 3, 15, 15, 64)     18496     \n",
            "_________________________________________________________________\n",
            "batch_normalization_3 (Batch (None, 3, 15, 15, 64)     256       \n",
            "_________________________________________________________________\n",
            "activation_3 (Activation)    (None, 3, 15, 15, 64)     0         \n",
            "_________________________________________________________________\n",
            "max_pooling3d_3 (MaxPooling3 (None, 1, 7, 7, 64)       0         \n",
            "_________________________________________________________________\n",
            "flatten (Flatten)            (None, 3136)              0         \n",
            "_________________________________________________________________\n",
            "dense (Dense)                (None, 1000)              3137000   \n",
            "_________________________________________________________________\n",
            "dropout (Dropout)            (None, 1000)              0         \n",
            "_________________________________________________________________\n",
            "dense_1 (Dense)              (None, 500)               500500    \n",
            "_________________________________________________________________\n",
            "dropout_1 (Dropout)          (None, 500)               0         \n",
            "_________________________________________________________________\n",
            "dense_2 (Dense)              (None, 5)                 2505      \n",
            "=================================================================\n",
            "Total params: 3,667,749\n",
            "Trainable params: 3,667,509\n",
            "Non-trainable params: 240\n",
            "_________________________________________________________________\n",
            "None\n"
          ],
          "name": "stdout"
        }
      ]
    },
    {
      "cell_type": "markdown",
      "metadata": {
        "id": "bQTqthYGu2G6"
      },
      "source": [
        "Let us create the `train_generator` and the `val_generator` which will be used in `.fit_generator`."
      ]
    },
    {
      "cell_type": "code",
      "metadata": {
        "id": "Q1Cg-d5Hu2G7"
      },
      "source": [
        "train_generator = generator(train_path, train_doc, batch_size)\n",
        "val_generator = generator(val_path, val_doc, batch_size)"
      ],
      "execution_count": 10,
      "outputs": []
    },
    {
      "cell_type": "code",
      "metadata": {
        "id": "0gRQRvWTu2G7"
      },
      "source": [
        "model_name = 'model_init' + '_' + str(curr_dt_time).replace(' ','').replace(':','_') + '/'\n",
        "    \n",
        "if not os.path.exists(model_name):\n",
        "    os.mkdir(model_name)\n",
        "        \n",
        "filepath = model_name + 'model-{epoch:05d}-{loss:.5f}-{categorical_accuracy:.5f}-{val_loss:.5f}-{val_categorical_accuracy:.5f}.h5'\n",
        "\n",
        "checkpoint = ModelCheckpoint(filepath, monitor='val_loss', verbose=1, save_best_only=False, save_weights_only=False, mode='auto')\n",
        "\n",
        "# write the REducelronplateau code here\n",
        "LR = ReduceLROnPlateau(monitor='val_loss', factor=0.2, patience=4, verbose=1)\n",
        "callbacks_list = [checkpoint, LR]"
      ],
      "execution_count": 11,
      "outputs": []
    },
    {
      "cell_type": "markdown",
      "metadata": {
        "id": "q3_D1Ggmu2G8"
      },
      "source": [
        "The `steps_per_epoch` and `validation_steps` are used by `fit_generator` to decide the number of next() calls it need to make."
      ]
    },
    {
      "cell_type": "code",
      "metadata": {
        "id": "bXN8GEUVu2G8"
      },
      "source": [
        "if (num_train_sequences%batch_size) == 0:\n",
        "    steps_per_epoch = int(num_train_sequences/batch_size)\n",
        "else:\n",
        "    steps_per_epoch = (num_train_sequences//batch_size) + 1\n",
        "\n",
        "if (num_val_sequences%batch_size) == 0:\n",
        "    validation_steps = int(num_val_sequences/batch_size)\n",
        "else:\n",
        "    validation_steps = (num_val_sequences//batch_size) + 1"
      ],
      "execution_count": 12,
      "outputs": []
    },
    {
      "cell_type": "markdown",
      "metadata": {
        "id": "p3rxEmoQu2G8"
      },
      "source": [
        "Let us now fit the model. This will start training the model and with the help of the checkpoints, you'll be able to save the model at the end of each epoch."
      ]
    },
    {
      "cell_type": "code",
      "metadata": {
        "colab": {
          "background_save": true,
          "base_uri": "https://localhost:8080/"
        },
        "id": "CWO0ZGlSu2G8",
        "outputId": "79f5d7f6-c9b1-45a0-e8be-2c78564a5e14"
      },
      "source": [
        "model.fit_generator(train_generator, steps_per_epoch=steps_per_epoch, epochs=num_epochs, verbose=1, \n",
        "                    callbacks=callbacks_list, validation_data=val_generator, \n",
        "                    validation_steps=validation_steps, class_weight=None, workers=1, initial_epoch=0)"
      ],
      "execution_count": null,
      "outputs": [
        {
          "output_type": "stream",
          "text": [
            "Source path =  /content/gdrive/MyDrive/Colab/gesture recognition/Project_data/train ; batch size = 10\n",
            "Epoch 1/6\n",
            "65/67 [============================>.] - ETA: 2:28 - loss: 50.0683 - categorical_accuracy: 0.2660Batch:  67 Index: 10\n",
            "67/67 [==============================] - ETA: 0s - loss: 49.2048 - categorical_accuracy: 0.2655  Source path =  /content/gdrive/MyDrive/Colab/gesture recognition/Project_data/val ; batch size = 10\n",
            "67/67 [==============================] - 5815s 88s/step - loss: 48.7916 - categorical_accuracy: 0.2653 - val_loss: 27.5781 - val_categorical_accuracy: 0.2300\n",
            "\n",
            "Epoch 00001: saving model to model_init_2021-06-2309_06_56.207181/model-00001-21.10644-0.25038-27.57806-0.23000.h5\n",
            "Epoch 2/6\n",
            "67/67 [==============================] - 42s 635ms/step - loss: 2.6678 - categorical_accuracy: 0.2049 - val_loss: 3.5654 - val_categorical_accuracy: 0.2300\n",
            "\n",
            "Epoch 00002: saving model to model_init_2021-06-2309_06_56.207181/model-00002-2.48456-0.20398-3.56543-0.23000.h5\n",
            "Epoch 3/6\n",
            "67/67 [==============================] - 63s 955ms/step - loss: 2.1814 - categorical_accuracy: 0.2461 - val_loss: 1.7206 - val_categorical_accuracy: 0.1700\n",
            "\n",
            "Epoch 00003: saving model to model_init_2021-06-2309_06_56.207181/model-00003-1.96258-0.18408-1.72059-0.17000.h5\n",
            "Epoch 4/6\n",
            "67/67 [==============================] - 50s 749ms/step - loss: 1.7002 - categorical_accuracy: 0.1997 - val_loss: 1.6142 - val_categorical_accuracy: 0.1800\n",
            "\n",
            "Epoch 00004: saving model to model_init_2021-06-2309_06_56.207181/model-00004-1.71712-0.17413-1.61417-0.18000.h5\n",
            "Epoch 5/6\n",
            "67/67 [==============================] - 42s 637ms/step - loss: 1.6228 - categorical_accuracy: 0.1365 - val_loss: 1.6105 - val_categorical_accuracy: 0.1800\n",
            "\n",
            "Epoch 00005: saving model to model_init_2021-06-2309_06_56.207181/model-00005-1.61855-0.18905-1.61047-0.18000.h5\n",
            "Epoch 6/6\n",
            "67/67 [==============================] - 43s 654ms/step - loss: 1.6201 - categorical_accuracy: 0.2399 - val_loss: 1.6187 - val_categorical_accuracy: 0.1800\n",
            "\n",
            "Epoch 00006: saving model to model_init_2021-06-2309_06_56.207181/model-00006-1.61461-0.22388-1.61869-0.18000.h5\n"
          ],
          "name": "stdout"
        },
        {
          "output_type": "execute_result",
          "data": {
            "text/plain": [
              "<keras.callbacks.History at 0x7f3bcab9b890>"
            ]
          },
          "metadata": {
            "tags": []
          },
          "execution_count": 0
        }
      ]
    },
    {
      "cell_type": "markdown",
      "metadata": {
        "id": "hmTQ61WAyp-1"
      },
      "source": [
        "### **Conv2D + LSTM**"
      ]
    },
    {
      "cell_type": "code",
      "metadata": {
        "colab": {
          "base_uri": "https://localhost:8080/"
        },
        "id": "J8FQR-Fu31g_",
        "outputId": "f769e88d-215c-47f1-b07c-04acbbcdf9a0"
      },
      "source": [
        "model_lstm = Sequential([\n",
        "    TimeDistributed(Conv2D(16, kernel_size=(3,3), padding='same', activation='relu'), input_shape=(30, 120, 120, 3)),\n",
        "    TimeDistributed(BatchNormalization()),\n",
        "    TimeDistributed(MaxPooling2D(pool_size=(2,2))),\n",
        "\n",
        "    TimeDistributed(Conv2D(32, kernel_size=(3,3), padding='same', activation='relu')),\n",
        "    TimeDistributed(BatchNormalization()),\n",
        "    TimeDistributed(MaxPooling2D(pool_size=(2,2))),\n",
        "\n",
        "    TimeDistributed(Conv2D(64, kernel_size=(3,3), padding='same', activation='relu')),\n",
        "    TimeDistributed(BatchNormalization()),\n",
        "    TimeDistributed(MaxPooling2D(pool_size=(2,2))),\n",
        "\n",
        "    TimeDistributed(Conv2D(128, kernel_size=(3,3), padding='same', activation='relu')),\n",
        "    TimeDistributed(BatchNormalization()),\n",
        "    TimeDistributed(MaxPooling2D(pool_size=(2,2))),\n",
        "\n",
        "    TimeDistributed(Conv2D(256, kernel_size=(3,3), padding='same', activation='relu')),\n",
        "    TimeDistributed(BatchNormalization()),\n",
        "    TimeDistributed(MaxPooling2D(pool_size=(2,2))),\n",
        "\n",
        "    TimeDistributed(Flatten()),\n",
        "    LSTM(256),\n",
        "    Dropout(0.2),\n",
        "\n",
        "    Dense(256, activation='relu'),\n",
        "    Dropout(0.2),\n",
        "\n",
        "    Dense(5, activation='softmax')\n",
        "])\n",
        "\n",
        "\n",
        "model_lstm.compile(optimizer='adam', loss='categorical_crossentropy', metrics=['categorical_accuracy'])\n",
        "print(model_lstm.summary())"
      ],
      "execution_count": 31,
      "outputs": [
        {
          "output_type": "stream",
          "text": [
            "Model: \"sequential_6\"\n",
            "_________________________________________________________________\n",
            "Layer (type)                 Output Shape              Param #   \n",
            "=================================================================\n",
            "time_distributed_15 (TimeDis (None, 30, 120, 120, 16)  448       \n",
            "_________________________________________________________________\n",
            "time_distributed_16 (TimeDis (None, 30, 120, 120, 16)  64        \n",
            "_________________________________________________________________\n",
            "time_distributed_17 (TimeDis (None, 30, 60, 60, 16)    0         \n",
            "_________________________________________________________________\n",
            "time_distributed_18 (TimeDis (None, 30, 60, 60, 32)    4640      \n",
            "_________________________________________________________________\n",
            "time_distributed_19 (TimeDis (None, 30, 60, 60, 32)    128       \n",
            "_________________________________________________________________\n",
            "time_distributed_20 (TimeDis (None, 30, 30, 30, 32)    0         \n",
            "_________________________________________________________________\n",
            "time_distributed_21 (TimeDis (None, 30, 30, 30, 64)    18496     \n",
            "_________________________________________________________________\n",
            "time_distributed_22 (TimeDis (None, 30, 30, 30, 64)    256       \n",
            "_________________________________________________________________\n",
            "time_distributed_23 (TimeDis (None, 30, 15, 15, 64)    0         \n",
            "_________________________________________________________________\n",
            "time_distributed_24 (TimeDis (None, 30, 15, 15, 128)   73856     \n",
            "_________________________________________________________________\n",
            "time_distributed_25 (TimeDis (None, 30, 15, 15, 128)   512       \n",
            "_________________________________________________________________\n",
            "time_distributed_26 (TimeDis (None, 30, 7, 7, 128)     0         \n",
            "_________________________________________________________________\n",
            "time_distributed_27 (TimeDis (None, 30, 7, 7, 256)     295168    \n",
            "_________________________________________________________________\n",
            "time_distributed_28 (TimeDis (None, 30, 7, 7, 256)     1024      \n",
            "_________________________________________________________________\n",
            "time_distributed_29 (TimeDis (None, 30, 3, 3, 256)     0         \n",
            "_________________________________________________________________\n",
            "time_distributed_30 (TimeDis (None, 30, 2304)          0         \n",
            "_________________________________________________________________\n",
            "lstm_5 (LSTM)                (None, 256)               2622464   \n",
            "_________________________________________________________________\n",
            "dropout_12 (Dropout)         (None, 256)               0         \n",
            "_________________________________________________________________\n",
            "dense_13 (Dense)             (None, 256)               65792     \n",
            "_________________________________________________________________\n",
            "dropout_13 (Dropout)         (None, 256)               0         \n",
            "_________________________________________________________________\n",
            "dense_14 (Dense)             (None, 5)                 1285      \n",
            "=================================================================\n",
            "Total params: 3,084,133\n",
            "Trainable params: 3,083,141\n",
            "Non-trainable params: 992\n",
            "_________________________________________________________________\n",
            "None\n"
          ],
          "name": "stdout"
        }
      ]
    },
    {
      "cell_type": "code",
      "metadata": {
        "colab": {
          "base_uri": "https://localhost:8080/"
        },
        "id": "EFzcU_GSQ_wR",
        "outputId": "3acb0ecf-a855-4b12-fb2e-db5388dae55c"
      },
      "source": [
        "model_lstm.fit_generator(train_generator, steps_per_epoch=steps_per_epoch, epochs=num_epochs, verbose=1, \n",
        "            callbacks=callbacks_list, validation_data=val_generator, \n",
        "            validation_steps=validation_steps, class_weight=None, workers=1, initial_epoch=0)"
      ],
      "execution_count": null,
      "outputs": [
        {
          "output_type": "stream",
          "text": [
            "Source path =  /content/gdrive/MyDrive/Colab/gesture recognition/Project_data/train ; batch size = 10\n",
            "Epoch 1/6\n",
            "65/67 [============================>.] - ETA: 2:07 - loss: 1.5813 - categorical_accuracy: 0.2994Batch:  67 Index: 10\n",
            "67/67 [==============================] - ETA: 0s - loss: 1.5763 - categorical_accuracy: 0.3019  Source path =  /content/gdrive/MyDrive/Colab/gesture recognition/Project_data/val ; batch size = 10\n",
            "67/67 [==============================] - 5079s 76s/step - loss: 1.5740 - categorical_accuracy: 0.3031 - val_loss: 2.2790 - val_categorical_accuracy: 0.2100\n",
            "\n",
            "Epoch 00001: saving model to model_init_2021-06-2316_45_37.352690/model-00001-1.41755-0.38311-2.27896-0.21000.h5\n",
            "Epoch 2/6\n",
            "67/67 [==============================] - 41s 625ms/step - loss: 1.3482 - categorical_accuracy: 0.4100 - val_loss: 2.0289 - val_categorical_accuracy: 0.2300\n",
            "\n",
            "Epoch 00002: saving model to model_init_2021-06-2316_45_37.352690/model-00002-1.43999-0.38806-2.02891-0.23000.h5\n",
            "Epoch 3/6\n",
            "67/67 [==============================] - 57s 855ms/step - loss: 1.3284 - categorical_accuracy: 0.4483 - val_loss: 1.5600 - val_categorical_accuracy: 0.3600\n",
            "\n",
            "Epoch 00003: saving model to model_init_2021-06-2316_45_37.352690/model-00003-1.41514-0.39303-1.56002-0.36000.h5\n",
            "Epoch 4/6\n",
            "67/67 [==============================] - 48s 734ms/step - loss: 1.5022 - categorical_accuracy: 0.3588 - val_loss: 1.7854 - val_categorical_accuracy: 0.3600\n",
            "\n",
            "Epoch 00004: saving model to model_init_2021-06-2316_45_37.352690/model-00004-1.43196-0.38308-1.78542-0.36000.h5\n",
            "Epoch 5/6\n",
            "67/67 [==============================] - 42s 634ms/step - loss: 1.6090 - categorical_accuracy: 0.2707 - val_loss: 1.4358 - val_categorical_accuracy: 0.3500\n",
            "\n",
            "Epoch 00005: saving model to model_init_2021-06-2316_45_37.352690/model-00005-1.60919-0.27861-1.43584-0.35000.h5\n",
            "Epoch 6/6\n",
            "67/67 [==============================] - 43s 646ms/step - loss: 1.4657 - categorical_accuracy: 0.3578 - val_loss: 1.2041 - val_categorical_accuracy: 0.5400\n",
            "\n",
            "Epoch 00006: saving model to model_init_2021-06-2316_45_37.352690/model-00006-1.42324-0.39801-1.20409-0.54000.h5\n"
          ],
          "name": "stdout"
        },
        {
          "output_type": "execute_result",
          "data": {
            "text/plain": [
              "<keras.callbacks.History at 0x7f1f1ea67fd0>"
            ]
          },
          "metadata": {
            "tags": []
          },
          "execution_count": 18
        }
      ]
    },
    {
      "cell_type": "code",
      "metadata": {
        "colab": {
          "base_uri": "https://localhost:8080/"
        },
        "id": "YxAw5wpgN0Ls",
        "outputId": "8299066d-c5a1-4b94-ba0c-4b259b81a99c"
      },
      "source": [
        "# save model and architecture to single file\n",
        "model_lstm.save(\"model.h5\")\n",
        "print(\"Saved model to disk\")"
      ],
      "execution_count": 32,
      "outputs": [
        {
          "output_type": "stream",
          "text": [
            "Saved model to disk\n"
          ],
          "name": "stdout"
        }
      ]
    },
    {
      "cell_type": "code",
      "metadata": {
        "id": "vCy4daO6N3Zi"
      },
      "source": [
        ""
      ],
      "execution_count": null,
      "outputs": []
    },
    {
      "cell_type": "markdown",
      "metadata": {
        "id": "M_WSG0H6QI4L"
      },
      "source": [
        "# **Due to Jarvis issues and colab taking hours to train the model, I was forced to run only 6 epochs. My apologies for low accuracy. But overall the model works :) **"
      ]
    }
  ]
}