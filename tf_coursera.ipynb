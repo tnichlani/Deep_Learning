{
  "nbformat": 4,
  "nbformat_minor": 0,
  "metadata": {
    "colab": {
      "name": "tf_coursera.ipynb",
      "provenance": [],
      "collapsed_sections": [],
      "authorship_tag": "ABX9TyOq3mqEdAn/b0uRuENFi3z8",
      "include_colab_link": true
    },
    "kernelspec": {
      "name": "python3",
      "display_name": "Python 3"
    },
    "language_info": {
      "name": "python"
    },
    "accelerator": "GPU"
  },
  "cells": [
    {
      "cell_type": "markdown",
      "metadata": {
        "id": "view-in-github",
        "colab_type": "text"
      },
      "source": [
        "<a href=\"https://colab.research.google.com/github/tnichlani/Deep_Learning/blob/main/tf_coursera.ipynb\" target=\"_parent\"><img src=\"https://colab.research.google.com/assets/colab-badge.svg\" alt=\"Open In Colab\"/></a>"
      ]
    },
    {
      "cell_type": "code",
      "metadata": {
        "id": "EXkXvdkUaXGv"
      },
      "source": [
        "import tensorflow as tf\n",
        "from tensorflow import keras\n",
        "from tensorflow.keras import layers\n",
        "import numpy as np"
      ],
      "execution_count": 11,
      "outputs": []
    },
    {
      "cell_type": "code",
      "metadata": {
        "id": "8nOlkNrNKUhM"
      },
      "source": [
        "# build convolutional network\n",
        "\n",
        "def conv_nn():\n",
        "  \n",
        "  # callback class\n",
        "  class myCallback(tf.keras.callbacks.Callback):\n",
        "    def on_epoch_end(self, epoch, logs={}):\n",
        "      if (logs.get('accuracy') >= 0.998):\n",
        "        print(\"Reached 99.8% accuracy so cancelling training!\")\n",
        "        self.model.stop_training = True\n",
        "  \n",
        "  # instantiate object\n",
        "  callbacks = myCallback()\n",
        "\n",
        "  # get data\n",
        "  mnist = keras.datasets.fashion_mnist\n",
        "\n",
        "  # split into train and test\n",
        "  (training_images, training_labels), (test_images, test_labels) = mnist.load_data()\n",
        "  \n",
        "  # reshape data\n",
        "  training_images = training_images.reshape(60000, 28, 28, 1)\n",
        "  test_images = test_images.reshape(10000, 28, 28, 1)\n",
        "\n",
        "  # normalize data\n",
        "  training_images = training_images / 255.0\n",
        "  test_images = test_images / 255.0\n",
        "  \n",
        "  # instantiate callback object\n",
        "  callbacks = myCallback()\n",
        "\n",
        "  #  define model \n",
        "  model = tf.keras.Sequential([\n",
        "                               tf.keras.layers.Conv2D(32, (3,3), activation='relu', input_shape= (28, 28, 1)),\n",
        "                               tf.keras.layers.MaxPool2D(2, 2),\n",
        "                               tf.keras.layers.Flatten(), \n",
        "                               tf.keras.layers.Dense(128, activation='relu'),\n",
        "                               tf.keras.layers.Dense(10, activation='softmax')\n",
        "  ])\n",
        "\n",
        "  # compile model\n",
        "  model.compile(optimizer='adam', loss='sparse_categorical_crossentropy', metrics=['accuracy'])\n",
        "\n",
        "  # model summary\n",
        "  model.summary()\n",
        "\n",
        "  # fit model \n",
        "  model.fit(training_images, training_labels, epochs=20, verbose=1, callbacks=[callbacks])\n",
        "\n",
        "  # test loss\n",
        "  test_loss, test_acc = model.evaluate(test_images, test_labels)\n",
        "\n",
        "  # print accuracy \n",
        "  print(\"testing accuracy: {}\".format(test_acc))\n"
      ],
      "execution_count": 13,
      "outputs": []
    },
    {
      "cell_type": "code",
      "metadata": {
        "colab": {
          "base_uri": "https://localhost:8080/"
        },
        "id": "PUss1rTm_1YO",
        "outputId": "debae524-41ab-428e-fae2-2ca892dd9c13"
      },
      "source": [
        "conv_nn()"
      ],
      "execution_count": 14,
      "outputs": [
        {
          "output_type": "stream",
          "text": [
            "Model: \"sequential_3\"\n",
            "_________________________________________________________________\n",
            "Layer (type)                 Output Shape              Param #   \n",
            "=================================================================\n",
            "conv2d_3 (Conv2D)            (None, 26, 26, 32)        320       \n",
            "_________________________________________________________________\n",
            "max_pooling2d_3 (MaxPooling2 (None, 13, 13, 32)        0         \n",
            "_________________________________________________________________\n",
            "flatten_3 (Flatten)          (None, 5408)              0         \n",
            "_________________________________________________________________\n",
            "dense_6 (Dense)              (None, 128)               692352    \n",
            "_________________________________________________________________\n",
            "dense_7 (Dense)              (None, 10)                1290      \n",
            "=================================================================\n",
            "Total params: 693,962\n",
            "Trainable params: 693,962\n",
            "Non-trainable params: 0\n",
            "_________________________________________________________________\n",
            "Epoch 1/20\n",
            "1875/1875 [==============================] - 5s 2ms/step - loss: 0.4002 - accuracy: 0.8587\n",
            "Epoch 2/20\n",
            "1875/1875 [==============================] - 4s 2ms/step - loss: 0.2729 - accuracy: 0.9019\n",
            "Epoch 3/20\n",
            "1875/1875 [==============================] - 4s 2ms/step - loss: 0.2265 - accuracy: 0.9172\n",
            "Epoch 4/20\n",
            "1875/1875 [==============================] - 4s 2ms/step - loss: 0.1921 - accuracy: 0.9284\n",
            "Epoch 5/20\n",
            "1875/1875 [==============================] - 4s 2ms/step - loss: 0.1647 - accuracy: 0.9390\n",
            "Epoch 6/20\n",
            "1875/1875 [==============================] - 4s 2ms/step - loss: 0.1401 - accuracy: 0.9491\n",
            "Epoch 7/20\n",
            "1875/1875 [==============================] - 4s 2ms/step - loss: 0.1200 - accuracy: 0.9553\n",
            "Epoch 8/20\n",
            "1875/1875 [==============================] - 4s 2ms/step - loss: 0.1036 - accuracy: 0.9621\n",
            "Epoch 9/20\n",
            "1875/1875 [==============================] - 4s 2ms/step - loss: 0.0844 - accuracy: 0.9689\n",
            "Epoch 10/20\n",
            "1875/1875 [==============================] - 4s 2ms/step - loss: 0.0745 - accuracy: 0.9736\n",
            "Epoch 11/20\n",
            "1875/1875 [==============================] - 4s 2ms/step - loss: 0.0643 - accuracy: 0.9761\n",
            "Epoch 12/20\n",
            "1875/1875 [==============================] - 4s 2ms/step - loss: 0.0538 - accuracy: 0.9803\n",
            "Epoch 13/20\n",
            "1875/1875 [==============================] - 4s 2ms/step - loss: 0.0460 - accuracy: 0.9834\n",
            "Epoch 14/20\n",
            "1875/1875 [==============================] - 4s 2ms/step - loss: 0.0415 - accuracy: 0.9849\n",
            "Epoch 15/20\n",
            "1875/1875 [==============================] - 4s 2ms/step - loss: 0.0370 - accuracy: 0.9872\n",
            "Epoch 16/20\n",
            "1875/1875 [==============================] - 4s 2ms/step - loss: 0.0321 - accuracy: 0.9882\n",
            "Epoch 17/20\n",
            "1875/1875 [==============================] - 4s 2ms/step - loss: 0.0290 - accuracy: 0.9899\n",
            "Epoch 18/20\n",
            "1875/1875 [==============================] - 4s 2ms/step - loss: 0.0294 - accuracy: 0.9896\n",
            "Epoch 19/20\n",
            "1875/1875 [==============================] - 4s 2ms/step - loss: 0.0228 - accuracy: 0.9919\n",
            "Reached 99% accuracy so cancelling training!\n",
            "313/313 [==============================] - 1s 2ms/step - loss: 0.5067 - accuracy: 0.9119\n",
            "testing accuracy: 0.911899983882904\n"
          ],
          "name": "stdout"
        }
      ]
    },
    {
      "cell_type": "code",
      "metadata": {
        "id": "n0dRkvPsESyC"
      },
      "source": [
        ""
      ],
      "execution_count": null,
      "outputs": []
    }
  ]
}